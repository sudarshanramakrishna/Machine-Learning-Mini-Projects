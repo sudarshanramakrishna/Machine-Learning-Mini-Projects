{
 "cells": [
  {
   "cell_type": "markdown",
   "id": "60b82548",
   "metadata": {},
   "source": [
    "# KMeans Clustering Notebook\n",
    "--------\n",
    "We will use Mall Customers dataset called Mall_Customers.csv\n",
    "\n",
    "We will only columns Annual Income & Spending Score to make things clearer in KMeans."
   ]
  },
  {
   "cell_type": "code",
   "execution_count": 1,
   "id": "1850f82c",
   "metadata": {},
   "outputs": [],
   "source": [
    "import pandas as pd\n",
    "import numpy as np\n",
    "import matplotlib.pyplot as plt\n",
    "from sklearn.cluster import KMeans\n",
    "from sklearn.metrics import silhouette_score"
   ]
  },
  {
   "cell_type": "markdown",
   "id": "2f965c38",
   "metadata": {},
   "source": [
    "## Read Data"
   ]
  },
  {
   "cell_type": "code",
   "execution_count": 2,
   "id": "7e0b894d",
   "metadata": {},
   "outputs": [
    {
     "data": {
      "text/html": [
       "<div>\n",
       "<style scoped>\n",
       "    .dataframe tbody tr th:only-of-type {\n",
       "        vertical-align: middle;\n",
       "    }\n",
       "\n",
       "    .dataframe tbody tr th {\n",
       "        vertical-align: top;\n",
       "    }\n",
       "\n",
       "    .dataframe thead th {\n",
       "        text-align: right;\n",
       "    }\n",
       "</style>\n",
       "<table border=\"1\" class=\"dataframe\">\n",
       "  <thead>\n",
       "    <tr style=\"text-align: right;\">\n",
       "      <th></th>\n",
       "      <th>CustomerID</th>\n",
       "      <th>Gender</th>\n",
       "      <th>Age</th>\n",
       "      <th>Annual Income (k$)</th>\n",
       "      <th>Spending Score (1-100)</th>\n",
       "    </tr>\n",
       "  </thead>\n",
       "  <tbody>\n",
       "    <tr>\n",
       "      <th>0</th>\n",
       "      <td>1</td>\n",
       "      <td>Male</td>\n",
       "      <td>19</td>\n",
       "      <td>15</td>\n",
       "      <td>39</td>\n",
       "    </tr>\n",
       "    <tr>\n",
       "      <th>1</th>\n",
       "      <td>2</td>\n",
       "      <td>Male</td>\n",
       "      <td>21</td>\n",
       "      <td>15</td>\n",
       "      <td>81</td>\n",
       "    </tr>\n",
       "    <tr>\n",
       "      <th>2</th>\n",
       "      <td>3</td>\n",
       "      <td>Female</td>\n",
       "      <td>20</td>\n",
       "      <td>16</td>\n",
       "      <td>6</td>\n",
       "    </tr>\n",
       "    <tr>\n",
       "      <th>3</th>\n",
       "      <td>4</td>\n",
       "      <td>Female</td>\n",
       "      <td>23</td>\n",
       "      <td>16</td>\n",
       "      <td>77</td>\n",
       "    </tr>\n",
       "    <tr>\n",
       "      <th>4</th>\n",
       "      <td>5</td>\n",
       "      <td>Female</td>\n",
       "      <td>31</td>\n",
       "      <td>17</td>\n",
       "      <td>40</td>\n",
       "    </tr>\n",
       "    <tr>\n",
       "      <th>...</th>\n",
       "      <td>...</td>\n",
       "      <td>...</td>\n",
       "      <td>...</td>\n",
       "      <td>...</td>\n",
       "      <td>...</td>\n",
       "    </tr>\n",
       "    <tr>\n",
       "      <th>195</th>\n",
       "      <td>196</td>\n",
       "      <td>Female</td>\n",
       "      <td>35</td>\n",
       "      <td>120</td>\n",
       "      <td>79</td>\n",
       "    </tr>\n",
       "    <tr>\n",
       "      <th>196</th>\n",
       "      <td>197</td>\n",
       "      <td>Female</td>\n",
       "      <td>45</td>\n",
       "      <td>126</td>\n",
       "      <td>28</td>\n",
       "    </tr>\n",
       "    <tr>\n",
       "      <th>197</th>\n",
       "      <td>198</td>\n",
       "      <td>Male</td>\n",
       "      <td>32</td>\n",
       "      <td>126</td>\n",
       "      <td>74</td>\n",
       "    </tr>\n",
       "    <tr>\n",
       "      <th>198</th>\n",
       "      <td>199</td>\n",
       "      <td>Male</td>\n",
       "      <td>32</td>\n",
       "      <td>137</td>\n",
       "      <td>18</td>\n",
       "    </tr>\n",
       "    <tr>\n",
       "      <th>199</th>\n",
       "      <td>200</td>\n",
       "      <td>Male</td>\n",
       "      <td>30</td>\n",
       "      <td>137</td>\n",
       "      <td>83</td>\n",
       "    </tr>\n",
       "  </tbody>\n",
       "</table>\n",
       "<p>200 rows × 5 columns</p>\n",
       "</div>"
      ],
      "text/plain": [
       "     CustomerID  Gender  Age  Annual Income (k$)  Spending Score (1-100)\n",
       "0             1    Male   19                  15                      39\n",
       "1             2    Male   21                  15                      81\n",
       "2             3  Female   20                  16                       6\n",
       "3             4  Female   23                  16                      77\n",
       "4             5  Female   31                  17                      40\n",
       "..          ...     ...  ...                 ...                     ...\n",
       "195         196  Female   35                 120                      79\n",
       "196         197  Female   45                 126                      28\n",
       "197         198    Male   32                 126                      74\n",
       "198         199    Male   32                 137                      18\n",
       "199         200    Male   30                 137                      83\n",
       "\n",
       "[200 rows x 5 columns]"
      ]
     },
     "execution_count": 2,
     "metadata": {},
     "output_type": "execute_result"
    }
   ],
   "source": [
    "df = pd.read_csv('Mall_Customers.csv')\n",
    "df = df.replace('NaN', None)\n",
    "df = df.dropna()\n",
    "df"
   ]
  },
  {
   "cell_type": "code",
   "execution_count": 3,
   "id": "920f30fe",
   "metadata": {},
   "outputs": [
    {
     "data": {
      "text/html": [
       "<div>\n",
       "<style scoped>\n",
       "    .dataframe tbody tr th:only-of-type {\n",
       "        vertical-align: middle;\n",
       "    }\n",
       "\n",
       "    .dataframe tbody tr th {\n",
       "        vertical-align: top;\n",
       "    }\n",
       "\n",
       "    .dataframe thead th {\n",
       "        text-align: right;\n",
       "    }\n",
       "</style>\n",
       "<table border=\"1\" class=\"dataframe\">\n",
       "  <thead>\n",
       "    <tr style=\"text-align: right;\">\n",
       "      <th></th>\n",
       "      <th>Annual Income (k$)</th>\n",
       "      <th>Spending Score (1-100)</th>\n",
       "    </tr>\n",
       "  </thead>\n",
       "  <tbody>\n",
       "    <tr>\n",
       "      <th>0</th>\n",
       "      <td>15</td>\n",
       "      <td>39</td>\n",
       "    </tr>\n",
       "    <tr>\n",
       "      <th>1</th>\n",
       "      <td>15</td>\n",
       "      <td>81</td>\n",
       "    </tr>\n",
       "    <tr>\n",
       "      <th>2</th>\n",
       "      <td>16</td>\n",
       "      <td>6</td>\n",
       "    </tr>\n",
       "    <tr>\n",
       "      <th>3</th>\n",
       "      <td>16</td>\n",
       "      <td>77</td>\n",
       "    </tr>\n",
       "    <tr>\n",
       "      <th>4</th>\n",
       "      <td>17</td>\n",
       "      <td>40</td>\n",
       "    </tr>\n",
       "    <tr>\n",
       "      <th>...</th>\n",
       "      <td>...</td>\n",
       "      <td>...</td>\n",
       "    </tr>\n",
       "    <tr>\n",
       "      <th>195</th>\n",
       "      <td>120</td>\n",
       "      <td>79</td>\n",
       "    </tr>\n",
       "    <tr>\n",
       "      <th>196</th>\n",
       "      <td>126</td>\n",
       "      <td>28</td>\n",
       "    </tr>\n",
       "    <tr>\n",
       "      <th>197</th>\n",
       "      <td>126</td>\n",
       "      <td>74</td>\n",
       "    </tr>\n",
       "    <tr>\n",
       "      <th>198</th>\n",
       "      <td>137</td>\n",
       "      <td>18</td>\n",
       "    </tr>\n",
       "    <tr>\n",
       "      <th>199</th>\n",
       "      <td>137</td>\n",
       "      <td>83</td>\n",
       "    </tr>\n",
       "  </tbody>\n",
       "</table>\n",
       "<p>200 rows × 2 columns</p>\n",
       "</div>"
      ],
      "text/plain": [
       "     Annual Income (k$)  Spending Score (1-100)\n",
       "0                    15                      39\n",
       "1                    15                      81\n",
       "2                    16                       6\n",
       "3                    16                      77\n",
       "4                    17                      40\n",
       "..                  ...                     ...\n",
       "195                 120                      79\n",
       "196                 126                      28\n",
       "197                 126                      74\n",
       "198                 137                      18\n",
       "199                 137                      83\n",
       "\n",
       "[200 rows x 2 columns]"
      ]
     },
     "execution_count": 3,
     "metadata": {},
     "output_type": "execute_result"
    }
   ],
   "source": [
    "df = df.drop(['CustomerID', 'Gender', 'Age'], axis='columns', errors='ignore')\n",
    "df"
   ]
  },
  {
   "cell_type": "markdown",
   "id": "7b67f62a",
   "metadata": {},
   "source": [
    "## Divide Data"
   ]
  },
  {
   "cell_type": "markdown",
   "id": "aff1344d",
   "metadata": {},
   "source": [
    "## Huh?!\n",
    "---\n",
    "Got you! We don't split data to X and Y here. We don't have a Y! This is an unsupervised learning method, which means we don't know what is the Y. We only have few features."
   ]
  },
  {
   "cell_type": "code",
   "execution_count": 4,
   "id": "b86c2033",
   "metadata": {},
   "outputs": [
    {
     "name": "stdout",
     "output_type": "stream",
     "text": [
      "(200,) (200,)\n"
     ]
    }
   ],
   "source": [
    "X1, X2 = df.iloc[:,0], df.iloc[:,1]\n",
    "print(X1.shape, X2.shape)"
   ]
  },
  {
   "cell_type": "markdown",
   "id": "1f54babc",
   "metadata": {},
   "source": [
    "## Visualizing the Dataset"
   ]
  },
  {
   "cell_type": "code",
   "execution_count": 5,
   "id": "b28f5233",
   "metadata": {
    "scrolled": false
   },
   "outputs": [
    {
     "data": {
      "image/png": "[encoded data removed]",
      "text/plain": [
       "<Figure size 432x288 with 1 Axes>"
      ]
     },
     "metadata": {
      "needs_background": "light"
     },
     "output_type": "display_data"
    }
   ],
   "source": [
    "plt.scatter(X1, X2)\n",
    "plt.xlabel('Annual Income')\n",
    "plt.ylabel('Spending Score')\n",
    "plt.title('Customers Data')\n",
    "plt.show()"
   ]
  },
  {
   "cell_type": "markdown",
   "id": "6deaab6f",
   "metadata": {},
   "source": [
    "## From Scratch:"
   ]
  },
  {
   "cell_type": "markdown",
   "id": "fb9ed276",
   "metadata": {},
   "source": [
    "### Define function for calculating inertia"
   ]
  },
  {
   "cell_type": "code",
   "execution_count": 6,
   "id": "0869b526",
   "metadata": {},
   "outputs": [],
   "source": [
    "# set value for K\n",
    "K = 5\n",
    "data_points = df.to_numpy()\n",
    "# get random indices of len K, ranging from 0 to len(df) - 1\n",
    "indices = np.random.randint(0, len(X1), K)\n",
    "\n",
    "# take centers at corresponding indices\n",
    "centers = []\n",
    "for indx in indices:\n",
    "    centers.append(data_points[indx])\n",
    "centers = np.array(centers)\n",
    "\n",
    "# I will iterate till either of these two conditions happen:\n",
    "# I iterate 100 times, or Centers don't change from last time\n",
    "for i in range(100):\n",
    "    prev_centers = centers.copy()\n",
    "    labels = []\n",
    "    # iterate over all points, and assign a label for them\n",
    "    for point in data_points:\n",
    "        distances = []\n",
    "        # iterate over all centers for the clusters you previously defined\n",
    "        # calculate the euclidean distance and store it in distances\n",
    "        for j in range(K):\n",
    "            dist = np.sqrt(np.sum((point - centers[j]) ** 2))\n",
    "            distances.append(dist)\n",
    "        # get the the index of the minimum distance\n",
    "        min_val_indx = np.argpartition(distances, 1)[0]\n",
    "        # add this index as the label for this data point\n",
    "        labels.append(min_val_indx)\n",
    "    # now we need to recalculate the center of the points\n",
    "    labels = np.array(labels)\n",
    "    for j in np.unique(labels):\n",
    "        points_within_cluster = data_points[labels == j]\n",
    "        centers[j] = np.mean(points_within_cluster)\n",
    "    \n",
    "    if prev_centers is centers:\n",
    "        print('Break at', i)\n",
    "        break\n"
   ]
  },
  {
   "cell_type": "code",
   "execution_count": 7,
   "id": "9642e4ce",
   "metadata": {},
   "outputs": [
    {
     "data": {
      "image/png": "[encoded data removed]",
      "text/plain": [
       "<Figure size 432x288 with 1 Axes>"
      ]
     },
     "metadata": {
      "needs_background": "light"
     },
     "output_type": "display_data"
    }
   ],
   "source": [
    "colors_list = ['red', 'blue', 'cyan', 'yellow', 'green', 'pink', 'orange', 'black']\n",
    "for k_val in range(K):\n",
    "    plt.scatter(X1[labels == k_val], X2[labels == k_val], color=colors_list[k_val], label=k_val)\n",
    "    plt.scatter(np.mean(X1[labels == k_val]), np.mean(X2[labels == k_val]), color='black', marker='^')\n",
    "\n",
    "plt.legend()\n",
    "plt.show()"
   ]
  },
  {
   "cell_type": "markdown",
   "id": "92de4885",
   "metadata": {},
   "source": [
    "## Using SKlearn"
   ]
  },
  {
   "cell_type": "code",
   "execution_count": 8,
   "id": "bb2f2f6b",
   "metadata": {},
   "outputs": [],
   "source": [
    "model = KMeans(n_clusters=5, init='random')\n",
    "model = model.fit(df)"
   ]
  },
  {
   "cell_type": "code",
   "execution_count": 9,
   "id": "d370e202",
   "metadata": {},
   "outputs": [
    {
     "name": "stdout",
     "output_type": "stream",
     "text": [
      "200\n"
     ]
    },
    {
     "data": {
      "text/plain": [
       "array([0, 1, 2, 3, 4])"
      ]
     },
     "execution_count": 9,
     "metadata": {},
     "output_type": "execute_result"
    }
   ],
   "source": [
    "labels = model.predict(df)\n",
    "print(len(labels))\n",
    "np.unique(labels)"
   ]
  },
  {
   "cell_type": "code",
   "execution_count": 10,
   "id": "40871753",
   "metadata": {},
   "outputs": [
    {
     "data": {
      "image/png": "[encoded data removed]",
      "text/plain": [
       "<Figure size 432x288 with 1 Axes>"
      ]
     },
     "metadata": {
      "needs_background": "light"
     },
     "output_type": "display_data"
    }
   ],
   "source": [
    "plt.scatter(X1[labels == 0], X2[labels == 0], color='red', label='0')\n",
    "mean1 = np.mean(X1[labels == 0])\n",
    "mean2 = np.mean(X2[labels == 0])\n",
    "plt.scatter(mean1, mean2, color='darkred')\n",
    "\n",
    "plt.scatter(X1[labels == 1], X2[labels == 1], color='blue', label='1')\n",
    "mean1 = np.mean(X1[labels == 1])\n",
    "mean2 = np.mean(X2[labels == 1])\n",
    "plt.scatter(mean1, mean2, color='cyan')\n",
    "\n",
    "plt.scatter(X1[labels == 2], X2[labels == 2], color='grey', label='2')\n",
    "mean1 = np.mean(X1[labels == 2])\n",
    "mean2 = np.mean(X2[labels == 2])\n",
    "plt.scatter(mean1, mean2, color='black')\n",
    "\n",
    "plt.scatter(X1[labels == 3], X2[labels == 3], color='yellow', label='3')\n",
    "mean1 = np.mean(X1[labels == 3])\n",
    "mean2 = np.mean(X2[labels == 3])\n",
    "plt.scatter(mean1, mean2, color='darkorange')\n",
    "\n",
    "plt.scatter(X1[labels == 4], X2[labels == 4], color='green', label='4')\n",
    "mean1 = np.mean(X1[labels == 4])\n",
    "mean2 = np.mean(X2[labels == 4])\n",
    "plt.scatter(mean1, mean2, color='lime')\n",
    "\n",
    "plt.legend()\n",
    "plt.show()"
   ]
  },
  {
   "cell_type": "code",
   "execution_count": 11,
   "id": "58d4f633",
   "metadata": {},
   "outputs": [
    {
     "name": "stdout",
     "output_type": "stream",
     "text": [
      "Silhouette Score is: 0.55\n"
     ]
    }
   ],
   "source": [
    "sil_score = silhouette_score(df, labels)\n",
    "print(\"Silhouette Score is: %.2f\" % sil_score)"
   ]
  },
  {
   "cell_type": "markdown",
   "id": "f70873d1",
   "metadata": {},
   "source": [
    "### Using KMeans++ to initialize K"
   ]
  },
  {
   "cell_type": "code",
   "execution_count": 12,
   "id": "749848c5",
   "metadata": {},
   "outputs": [
    {
     "name": "stdout",
     "output_type": "stream",
     "text": [
      "[0 1 2 3 4 5 6 7]\n"
     ]
    },
    {
     "data": {
      "text/plain": [
       "8"
      ]
     },
     "execution_count": 12,
     "metadata": {},
     "output_type": "execute_result"
    }
   ],
   "source": [
    "model = KMeans(init='k-means++')\n",
    "model = model.fit(df)\n",
    "labels = model.predict(df)\n",
    "print(np.unique(labels))\n",
    "K = len(np.unique(labels))\n",
    "K"
   ]
  },
  {
   "cell_type": "code",
   "execution_count": 13,
   "id": "6449986c",
   "metadata": {},
   "outputs": [
    {
     "data": {
      "image/png": "[encoded data removed]",
      "text/plain": [
       "<Figure size 432x288 with 1 Axes>"
      ]
     },
     "metadata": {
      "needs_background": "light"
     },
     "output_type": "display_data"
    }
   ],
   "source": [
    "colors_list = ['red', 'blue', 'cyan', 'yellow', 'green', 'pink', 'orange', 'black']\n",
    "for k_val in range(K):\n",
    "    plt.scatter(X1[labels == k_val], X2[labels == k_val], color=colors_list[k_val], label=k_val)\n",
    "\n",
    "plt.legend()\n",
    "plt.show()"
   ]
  },
  {
   "cell_type": "code",
   "execution_count": 14,
   "id": "d7a98019",
   "metadata": {},
   "outputs": [
    {
     "name": "stdout",
     "output_type": "stream",
     "text": [
      "Silhouette Score is: 0.46\n"
     ]
    }
   ],
   "source": [
    "sil_score = silhouette_score(df, labels)\n",
    "print(\"Silhouette Score is: %.2f\" % sil_score)"
   ]
  }
 ],
 "metadata": {
  "kernelspec": {
   "display_name": "Python 3 (ipykernel)",
   "language": "python",
   "name": "python3"
  },
  "language_info": {
   "codemirror_mode": {
    "name": "ipython",
    "version": 3
   },
   "file_extension": ".py",
   "mimetype": "text/x-python",
   "name": "python",
   "nbconvert_exporter": "python",
   "pygments_lexer": "ipython3",
   "version": "3.9.12"
  }
 },
 "nbformat": 4,
 "nbformat_minor": 5
}
