{
 "cells": [
  {
   "cell_type": "code",
   "execution_count": 97,
   "id": "2f248a70",
   "metadata": {},
   "outputs": [],
   "source": [
    "import numpy as np\n",
    "import pandas as pd\n",
    "import matplotlib.pyplot as plt\n"
   ]
  },
  {
   "cell_type": "code",
   "execution_count": 98,
   "id": "af12a583",
   "metadata": {},
   "outputs": [],
   "source": [
    "filepath = \"C:/Users/nisha/Nishant/Artificial Intelligence and Machine Learning/Datasets/ML Course/Part 2 - Regression/Section 6 - Polynomial Regression/Python/Position_Salaries.csv\"\n"
   ]
  },
  {
   "cell_type": "code",
   "execution_count": 99,
   "id": "00e14baf",
   "metadata": {},
   "outputs": [
    {
     "data": {
      "text/html": [
       "<div>\n",
       "<style scoped>\n",
       "    .dataframe tbody tr th:only-of-type {\n",
       "        vertical-align: middle;\n",
       "    }\n",
       "\n",
       "    .dataframe tbody tr th {\n",
       "        vertical-align: top;\n",
       "    }\n",
       "\n",
       "    .dataframe thead th {\n",
       "        text-align: right;\n",
       "    }\n",
       "</style>\n",
       "<table border=\"1\" class=\"dataframe\">\n",
       "  <thead>\n",
       "    <tr style=\"text-align: right;\">\n",
       "      <th></th>\n",
       "      <th>00</th>\n",
       "      <th>Level</th>\n",
       "      <th>Salary</th>\n",
       "    </tr>\n",
       "  </thead>\n",
       "  <tbody>\n",
       "    <tr>\n",
       "      <th>0</th>\n",
       "      <td>1</td>\n",
       "      <td>1</td>\n",
       "      <td>45000</td>\n",
       "    </tr>\n",
       "    <tr>\n",
       "      <th>1</th>\n",
       "      <td>1</td>\n",
       "      <td>2</td>\n",
       "      <td>50000</td>\n",
       "    </tr>\n",
       "    <tr>\n",
       "      <th>2</th>\n",
       "      <td>1</td>\n",
       "      <td>3</td>\n",
       "      <td>60000</td>\n",
       "    </tr>\n",
       "    <tr>\n",
       "      <th>3</th>\n",
       "      <td>1</td>\n",
       "      <td>4</td>\n",
       "      <td>80000</td>\n",
       "    </tr>\n",
       "    <tr>\n",
       "      <th>4</th>\n",
       "      <td>1</td>\n",
       "      <td>5</td>\n",
       "      <td>110000</td>\n",
       "    </tr>\n",
       "    <tr>\n",
       "      <th>5</th>\n",
       "      <td>1</td>\n",
       "      <td>6</td>\n",
       "      <td>150000</td>\n",
       "    </tr>\n",
       "    <tr>\n",
       "      <th>6</th>\n",
       "      <td>1</td>\n",
       "      <td>7</td>\n",
       "      <td>200000</td>\n",
       "    </tr>\n",
       "    <tr>\n",
       "      <th>7</th>\n",
       "      <td>1</td>\n",
       "      <td>8</td>\n",
       "      <td>300000</td>\n",
       "    </tr>\n",
       "    <tr>\n",
       "      <th>8</th>\n",
       "      <td>1</td>\n",
       "      <td>9</td>\n",
       "      <td>500000</td>\n",
       "    </tr>\n",
       "    <tr>\n",
       "      <th>9</th>\n",
       "      <td>1</td>\n",
       "      <td>10</td>\n",
       "      <td>1000000</td>\n",
       "    </tr>\n",
       "  </tbody>\n",
       "</table>\n",
       "</div>"
      ],
      "text/plain": [
       "   00  Level   Salary\n",
       "0   1      1    45000\n",
       "1   1      2    50000\n",
       "2   1      3    60000\n",
       "3   1      4    80000\n",
       "4   1      5   110000\n",
       "5   1      6   150000\n",
       "6   1      7   200000\n",
       "7   1      8   300000\n",
       "8   1      9   500000\n",
       "9   1     10  1000000"
      ]
     },
     "execution_count": 99,
     "metadata": {},
     "output_type": "execute_result"
    }
   ],
   "source": [
    "df = pd.read_csv(filepath)\n",
    "df = pd.concat([pd.Series(1, index=df.index, name='00'), df], axis=1)\n",
    "df = df.drop(columns='Position')\n",
    "df"
   ]
  },
  {
   "cell_type": "code",
   "execution_count": 100,
   "id": "3f7de7fc",
   "metadata": {
    "scrolled": true
   },
   "outputs": [
    {
     "name": "stdout",
     "output_type": "stream",
     "text": [
      "[[    1     1     1     1     1     1     1]\n",
      " [    1     2     1     2     4     8    16]\n",
      " [    1     3     1     3     9    27    81]\n",
      " [    1     4     1     4    16    64   256]\n",
      " [    1     5     1     5    25   125   625]\n",
      " [    1     6     1     6    36   216  1296]\n",
      " [    1     7     1     7    49   343  2401]\n",
      " [    1     8     1     8    64   512  4096]\n",
      " [    1     9     1     9    81   729  6561]\n",
      " [    1    10     1    10   100  1000 10000]] [  45000   50000   60000   80000  110000  150000  200000  300000  500000\n",
      " 1000000]\n"
     ]
    }
   ],
   "source": [
    "y = df['Salary']\n",
    "X = df.drop(columns = 'Salary')\n",
    "#X['Level1'] = X['Level']**2\n",
    "#X['Level2'] = X['Level']**3\n",
    "order = 5\n",
    "\n",
    "for i in range(order):\n",
    "    X['Level'+str(i)] = X['Level']**i\n",
    "\n",
    "x = X.iloc[:,:].values\n",
    "y = y.values\n",
    "\n",
    "print(x,y)\n"
   ]
  },
  {
   "cell_type": "code",
   "execution_count": 101,
   "id": "4b6e2898",
   "metadata": {},
   "outputs": [],
   "source": [
    "#calculate cost\n",
    "def CostFunction(x,y,w,b):\n",
    "    cost = np.sum((((x.dot(w) + b) - y) ** 2) / (2*len(y)))\n",
    "    return cost"
   ]
  },
  {
   "cell_type": "code",
   "execution_count": 102,
   "id": "70ff53f2",
   "metadata": {},
   "outputs": [],
   "source": [
    "#Gradient Descent\n",
    "def GradientDescent(x, y, w, b, learning_rate, epochs):\n",
    "    cost_list = [0] * epochs\n",
    "   \n",
    "    for epoch in range(epochs):\n",
    "        z = x.dot(w) + b\n",
    "        loss = z - y\n",
    "        \n",
    "        weight_gradient = x.T.dot(loss) / len(y)\n",
    "        bias_gradient = np.sum(loss) / len(y)\n",
    "        \n",
    "        w = w - learning_rate*weight_gradient\n",
    "        b = b - learning_rate*bias_gradient\n",
    "  \n",
    "        cost = CostFunction(x, y, w, b)\n",
    "        cost_list[epoch] = cost\n",
    "        #print(cost)\n",
    "        \n",
    "        if (epoch%(epochs/10)==0):\n",
    "            print(\"Cost is:\",cost)\n",
    "        \n",
    "    return w, b, cost_list"
   ]
  },
  {
   "cell_type": "code",
   "execution_count": 117,
   "id": "c2cb5c2d",
   "metadata": {},
   "outputs": [
    {
     "name": "stdout",
     "output_type": "stream",
     "text": [
      "Cost is: 3471401218.284336\n",
      "Cost is: 1805721787.8375528\n",
      "Cost is: 1786265407.1826165\n",
      "Cost is: 1777262003.5138965\n",
      "Cost is: 1770475371.1682591\n",
      "Cost is: 1764175106.2834535\n",
      "Cost is: 1757997587.016744\n",
      "Cost is: 1751866334.4536002\n",
      "Cost is: 1745765194.9219365\n",
      "Cost is: 1739690688.6387186\n"
     ]
    }
   ],
   "source": [
    "\n",
    "w, b, c= GradientDescent(x, y, np.zeros(x.shape[1]), 0, 0.00000005,epochs=50000)\n",
    "#39966915.01000263 is lowest cost achieved"
   ]
  },
  {
   "cell_type": "code",
   "execution_count": 118,
   "id": "bbed8938",
   "metadata": {},
   "outputs": [
    {
     "data": {
      "text/plain": [
       "[<matplotlib.lines.Line2D at 0x1aca12ec208>]"
      ]
     },
     "execution_count": 118,
     "metadata": {},
     "output_type": "execute_result"
    },
    {
     "data": {
      "image/png": "[encoded data removed]",
      "text/plain": [
       "<Figure size 432x288 with 1 Axes>"
      ]
     },
     "metadata": {
      "needs_background": "light"
     },
     "output_type": "display_data"
    }
   ],
   "source": [
    "plt.plot(c)"
   ]
  },
  {
   "cell_type": "code",
   "execution_count": 119,
   "id": "39616de7",
   "metadata": {},
   "outputs": [],
   "source": [
    "def predict(X, w, b):\n",
    "    return X.dot(w) + b"
   ]
  },
  {
   "cell_type": "code",
   "execution_count": 120,
   "id": "8bb37f74",
   "metadata": {},
   "outputs": [],
   "source": [
    "def r2score(y_pred, y):\n",
    "    rss = np.sum((y_pred - y) ** 2)\n",
    "    tss = np.sum((y-y.mean()) ** 2)\n",
    "    \n",
    "    r2 = 1 - (rss / tss)\n",
    "    return r2"
   ]
  },
  {
   "cell_type": "code",
   "execution_count": 121,
   "id": "d62426ef",
   "metadata": {},
   "outputs": [
    {
     "name": "stdout",
     "output_type": "stream",
     "text": [
      "0.9570147570647833\n"
     ]
    }
   ],
   "source": [
    "y_pred = predict(x, w, b)\n",
    "r2 = r2score(y_pred, y)\n",
    "print(r2)"
   ]
  },
  {
   "cell_type": "code",
   "execution_count": 133,
   "id": "76ebf3db",
   "metadata": {},
   "outputs": [
    {
     "data": {
      "text/plain": [
       "[<matplotlib.lines.Line2D at 0x1aca06484c8>]"
      ]
     },
     "execution_count": 133,
     "metadata": {},
     "output_type": "execute_result"
    },
    {
     "data": {
      "image/png": "[encoded data removed]",
      "text/plain": [
       "<Figure size 432x288 with 1 Axes>"
      ]
     },
     "metadata": {
      "needs_background": "light"
     },
     "output_type": "display_data"
    }
   ],
   "source": [
    "plt.plot(df['Level'],y)\n",
    "plt.plot(df['Level'],y_pred,color ='orange')"
   ]
  },
  {
   "cell_type": "code",
   "execution_count": null,
   "id": "49fd7d24",
   "metadata": {},
   "outputs": [],
   "source": []
  }
 ],
 "metadata": {
  "kernelspec": {
   "display_name": "Python 3",
   "language": "python",
   "name": "python3"
  },
  "language_info": {
   "codemirror_mode": {
    "name": "ipython",
    "version": 3
   },
   "file_extension": ".py",
   "mimetype": "text/x-python",
   "name": "python",
   "nbconvert_exporter": "python",
   "pygments_lexer": "ipython3",
   "version": "3.7.10"
  }
 },
 "nbformat": 4,
 "nbformat_minor": 5
}
