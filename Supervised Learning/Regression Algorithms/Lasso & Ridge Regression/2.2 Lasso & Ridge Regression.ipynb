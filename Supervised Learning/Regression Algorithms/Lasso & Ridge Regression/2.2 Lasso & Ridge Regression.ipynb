{
 "cells": [
  {
   "cell_type": "markdown",
   "id": "b38bda66",
   "metadata": {},
   "source": [
    "# Lasso & Ridge Regression Notebook\n",
    "------------------------------------\n",
    "Dataset is Automobile_data.txt\n",
    "\n",
    "This dataset contains prices of cars based on many parameters like make, fuel-type, engine-size...etc."
   ]
  },
  {
   "cell_type": "markdown",
   "id": "e1469de6",
   "metadata": {},
   "source": [
    "## Part One: Reading & Preparing Data, and Dividing Dataset\n",
    "-------------------------\n",
    "This part of this notebook is the same as in the Automobile Multilinear Regression Notebook. If you don't understand anything here, go to the other notebook and see the explainations."
   ]
  },
  {
   "cell_type": "code",
   "execution_count": 1,
   "id": "aaae6442",
   "metadata": {},
   "outputs": [],
   "source": [
    "# importing needed libraries\n",
    "import pandas as pd \n",
    "import numpy as np\n",
    "import matplotlib.pyplot as plt"
   ]
  },
  {
   "cell_type": "code",
   "execution_count": 2,
   "id": "fd5679b5",
   "metadata": {},
   "outputs": [],
   "source": [
    "df = pd.read_csv('automobile_data.txt', sep=',')\n",
    "\n",
    "df = df.replace('?',np.NaN)\n",
    "df = df.dropna()\n",
    "\n",
    "for col_name in df.columns:\n",
    "    try:\n",
    "        df[col_name] = df[col_name].astype('float')\n",
    "    except:\n",
    "        df = df.drop(col_name, axis='columns', errors='ignore')"
   ]
  },
  {
   "cell_type": "code",
   "execution_count": 3,
   "id": "9e7630ea",
   "metadata": {},
   "outputs": [],
   "source": [
    "Xs = df.iloc[:, 0:-1]\n",
    "X_names = Xs.columns\n",
    "r_vals = {}\n",
    "for x_name in X_names:\n",
    "    r_val = df[[x_name, 'price']].corr().iloc[0,1]\n",
    "    r_vals[x_name] = r_val\n",
    "    \n",
    "for col_name in r_vals:\n",
    "    if r_vals[col_name] < 0.5 and r_vals[col_name] > -0.5:\n",
    "        df.drop(col_name, axis='columns')"
   ]
  },
  {
   "cell_type": "code",
   "execution_count": 4,
   "id": "55ece455",
   "metadata": {},
   "outputs": [],
   "source": [
    "from sklearn.model_selection import train_test_split"
   ]
  },
  {
   "cell_type": "code",
   "execution_count": 24,
   "id": "30a5dd46",
   "metadata": {},
   "outputs": [],
   "source": [
    "train_df, test_df = train_test_split(df, test_size=0.2)\n",
    "\n",
    "Y_train = train_df['price']\n",
    "Xs_train = train_df.iloc[:, 0:-1]\n",
    "\n",
    "Y_test = test_df['price']\n",
    "Xs_test = test_df.iloc[:, 0:-1]"
   ]
  },
  {
   "cell_type": "markdown",
   "id": "d9ca7ad4",
   "metadata": {},
   "source": [
    "## Part Two: Lasso (L1) Regression Model\n",
    "----------------------------\n",
    "\n",
    "We will use [Lasso](https://scikit-learn.org/stable/modules/generated/sklearn.linear_model.Lasso.html) function from sklearn, which uses Lasso Loss function rigth away during fitting and applying the gradient descent. Lasso function takes input the value of lambda, the value multiplied by the summation of the coefficients of the linear model. However, in the documentation, it is called alpha.\n",
    "\n",
    "N.B. We can use model.score to do both model.predict and calculate the r2_value (accuracy) of the model in one step."
   ]
  },
  {
   "cell_type": "code",
   "execution_count": 6,
   "id": "159387bc",
   "metadata": {},
   "outputs": [],
   "source": [
    "from sklearn.linear_model import Lasso"
   ]
  },
  {
   "cell_type": "code",
   "execution_count": 25,
   "id": "ad0888ef",
   "metadata": {},
   "outputs": [
    {
     "name": "stdout",
     "output_type": "stream",
     "text": [
      "Accuracy is: 82.56%\n"
     ]
    }
   ],
   "source": [
    "lassoModel = Lasso(2)\n",
    "lassoModel.fit(Xs_train, Y_train)\n",
    "print('Accuracy is: %.2f' % (lassoModel.score(Xs_test, Y_test) * 100), '%', sep='')"
   ]
  },
  {
   "cell_type": "markdown",
   "id": "e2713a7a",
   "metadata": {},
   "source": [
    "## Part Three: Ridge (L2) Regression Model\n",
    "-----------------------\n",
    "\n",
    "We will use [Ridge](https://scikit-learn.org/stable/modules/generated/sklearn.linear_model.Ridge.html) function from sklearn, which uses Lasso Loss function rigth away during fitting and applying the gradient descent. Lasso function takes input the value of lambda, the value multiplied by the summation of the coefficients of the linear model. However, in the documentation, it is called alpha."
   ]
  },
  {
   "cell_type": "code",
   "execution_count": 17,
   "id": "a115426d",
   "metadata": {},
   "outputs": [],
   "source": [
    "from sklearn.linear_model import Ridge"
   ]
  },
  {
   "cell_type": "code",
   "execution_count": 26,
   "id": "fceeed5a",
   "metadata": {},
   "outputs": [
    {
     "name": "stdout",
     "output_type": "stream",
     "text": [
      "Accuracy is: 82.84%\n"
     ]
    }
   ],
   "source": [
    "ridgeModel = Ridge(2)\n",
    "ridgeModel.fit(Xs_train, Y_train)\n",
    "print('Accuracy is: %.2f' % (ridgeModel.score(Xs_test, Y_test) * 100), '%', sep='')"
   ]
  }
 ],
 "metadata": {
  "kernelspec": {
   "display_name": "dev",
   "language": "python",
   "name": "dev"
  },
  "language_info": {
   "codemirror_mode": {
    "name": "ipython",
    "version": 3
   },
   "file_extension": ".py",
   "mimetype": "text/x-python",
   "name": "python",
   "nbconvert_exporter": "python",
   "pygments_lexer": "ipython3",
   "version": "3.9.7"
  }
 },
 "nbformat": 4,
 "nbformat_minor": 5
}
