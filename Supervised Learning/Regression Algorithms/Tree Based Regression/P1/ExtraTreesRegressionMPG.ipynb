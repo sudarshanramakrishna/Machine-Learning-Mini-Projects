{
 "cells": [
  {
   "cell_type": "code",
   "execution_count": 19,
   "metadata": {},
   "outputs": [],
   "source": [
    "import numpy as np\n",
    "import pandas as pd"
   ]
  },
  {
   "cell_type": "code",
   "execution_count": 20,
   "metadata": {},
   "outputs": [],
   "source": [
    "data = pd.read_csv(\"mpg.csv\")"
   ]
  },
  {
   "cell_type": "code",
   "execution_count": 21,
   "metadata": {},
   "outputs": [],
   "source": [
    "data = data[data.horsepower != \"?\"]"
   ]
  },
  {
   "cell_type": "code",
   "execution_count": 22,
   "metadata": {},
   "outputs": [
    {
     "data": {
      "text/plain": [
       "mpg             float64\n",
       "cylinders         int64\n",
       "displacement    float64\n",
       "horsepower       object\n",
       "weight            int64\n",
       "acceleration    float64\n",
       "model_year        int64\n",
       "origin            int64\n",
       "name             object\n",
       "dtype: object"
      ]
     },
     "execution_count": 22,
     "metadata": {},
     "output_type": "execute_result"
    }
   ],
   "source": [
    "data.dtypes"
   ]
  },
  {
   "cell_type": "code",
   "execution_count": 23,
   "metadata": {},
   "outputs": [],
   "source": [
    "data.horsepower = data.horsepower.astype(\"float\")      #object type has been changed to float"
   ]
  },
  {
   "cell_type": "code",
   "execution_count": 24,
   "metadata": {},
   "outputs": [],
   "source": [
    "from sklearn.metrics import mean_squared_error, r2_score"
   ]
  },
  {
   "cell_type": "code",
   "execution_count": 29,
   "metadata": {},
   "outputs": [],
   "source": [
    "from sklearn.model_selection import train_test_split\n",
    "df=data\n",
    "training_features = [ 'acceleration','origin','displacement','model_year','horsepower']\n",
    "target = 'mpg'\n",
    "\n",
    "X_train, X_test, Y_train, Y_test = train_test_split(df[training_features],\n",
    "                                                    df[target],\n",
    "                                                     test_size=0.10, random_state=169)"
   ]
  },
  {
   "cell_type": "code",
   "execution_count": 30,
   "metadata": {},
   "outputs": [],
   "source": [
    "from sklearn.ensemble import ExtraTreesRegressor\n",
    "model = ExtraTreesRegressor(n_estimators=200,criterion='mse',\n",
    "max_depth=5,min_samples_leaf=4,min_samples_split=5)\n",
    "\n",
    "#difference between Randomforest and Extratrees is that there's no concept of weights of estimators in Extratrees algorithm"
   ]
  },
  {
   "cell_type": "code",
   "execution_count": 31,
   "metadata": {},
   "outputs": [
    {
     "data": {
      "text/plain": [
       "ExtraTreesRegressor(max_depth=5, min_samples_leaf=4, min_samples_split=5,\n",
       "                    n_estimators=200)"
      ]
     },
     "execution_count": 31,
     "metadata": {},
     "output_type": "execute_result"
    }
   ],
   "source": [
    "model.fit(X_train,Y_train)"
   ]
  },
  {
   "cell_type": "code",
   "execution_count": 32,
   "metadata": {},
   "outputs": [
    {
     "name": "stdout",
     "output_type": "stream",
     "text": [
      "Mean squared error: 3.02\n",
      "R Square score: 0.94\n"
     ]
    }
   ],
   "source": [
    "predicted=model.predict(X_test)\n",
    "print(\"Mean squared error: %.2f\"\n",
    "              % mean_squared_error(Y_test, predicted))\n",
    "print('R Square score: %.2f' % r2_score(Y_test, predicted))\n"
   ]
  },
  {
   "cell_type": "code",
   "execution_count": 34,
   "metadata": {},
   "outputs": [
    {
     "data": {
      "text/plain": [
       "[Text(181.6468085106383, 199.32, 'X[1] <= 1.37\\nmse = 61.932\\nsamples = 352\\nvalue = 23.496'),\n",
       " Text(83.7, 163.07999999999998, 'X[2] <= 176.624\\nmse = 42.47\\nsamples = 220\\nvalue = 20.11'),\n",
       " Text(32.05531914893617, 126.83999999999999, 'X[3] <= 76.2\\nmse = 20.731\\nsamples = 69\\nvalue = 27.693'),\n",
       " Text(14.246808510638298, 90.6, 'X[3] <= 73.933\\nmse = 9.146\\nsamples = 21\\nvalue = 24.143'),\n",
       " Text(7.123404255319149, 54.359999999999985, 'mse = 8.38\\nsamples = 11\\nvalue = 23.273'),\n",
       " Text(21.370212765957447, 54.359999999999985, 'mse = 8.24\\nsamples = 10\\nvalue = 25.1'),\n",
       " Text(49.86382978723404, 90.6, 'X[2] <= 118.632\\nmse = 17.874\\nsamples = 48\\nvalue = 29.246'),\n",
       " Text(35.61702127659574, 54.359999999999985, 'X[4] <= 80.169\\nmse = 10.483\\nsamples = 19\\nvalue = 32.911'),\n",
       " Text(28.493617021276595, 18.119999999999976, 'mse = 9.016\\nsamples = 14\\nvalue = 33.7'),\n",
       " Text(42.740425531914894, 18.119999999999976, 'mse = 7.96\\nsamples = 5\\nvalue = 30.7'),\n",
       " Text(64.11063829787234, 54.359999999999985, 'X[4] <= 86.684\\nmse = 8.153\\nsamples = 29\\nvalue = 26.845'),\n",
       " Text(56.98723404255319, 18.119999999999976, 'mse = 9.956\\nsamples = 9\\nvalue = 28.333'),\n",
       " Text(71.23404255319149, 18.119999999999976, 'mse = 5.896\\nsamples = 20\\nvalue = 26.175'),\n",
       " Text(135.34468085106383, 126.83999999999999, 'X[3] <= 76.482\\nmse = 14.124\\nsamples = 151\\nvalue = 16.645'),\n",
       " Text(106.85106382978724, 90.6, 'X[2] <= 369.377\\nmse = 9.482\\nsamples = 109\\nvalue = 15.541'),\n",
       " Text(92.60425531914893, 54.359999999999985, 'X[2] <= 242.241\\nmse = 9.915\\nsamples = 89\\nvalue = 16.022'),\n",
       " Text(85.48085106382979, 18.119999999999976, 'mse = 4.165\\nsamples = 23\\nvalue = 19.674'),\n",
       " Text(99.72765957446808, 18.119999999999976, 'mse = 5.653\\nsamples = 66\\nvalue = 14.75'),\n",
       " Text(121.09787234042552, 54.359999999999985, 'X[0] <= 11.299\\nmse = 1.94\\nsamples = 20\\nvalue = 13.4'),\n",
       " Text(113.97446808510638, 18.119999999999976, 'mse = 1.877\\nsamples = 9\\nvalue = 13.889'),\n",
       " Text(128.22127659574468, 18.119999999999976, 'mse = 1.636\\nsamples = 11\\nvalue = 13.0'),\n",
       " Text(163.83829787234043, 90.6, 'X[3] <= 78.749\\nmse = 14.804\\nsamples = 42\\nvalue = 19.51'),\n",
       " Text(149.59148936170212, 54.359999999999985, 'X[3] <= 77.781\\nmse = 3.308\\nsamples = 22\\nvalue = 18.259'),\n",
       " Text(142.46808510638297, 18.119999999999976, 'mse = 3.072\\nsamples = 10\\nvalue = 17.05'),\n",
       " Text(156.71489361702126, 18.119999999999976, 'mse = 1.271\\nsamples = 12\\nvalue = 19.267'),\n",
       " Text(178.08510638297872, 54.359999999999985, 'X[3] <= 80.672\\nmse = 23.838\\nsamples = 20\\nvalue = 20.885'),\n",
       " Text(170.96170212765958, 18.119999999999976, 'mse = 5.735\\nsamples = 14\\nvalue = 19.164'),\n",
       " Text(185.20851063829787, 18.119999999999976, 'mse = 43.05\\nsamples = 6\\nvalue = 24.9'),\n",
       " Text(279.5936170212766, 163.07999999999998, 'X[3] <= 76.04\\nmse = 43.413\\nsamples = 132\\nvalue = 29.139'),\n",
       " Text(245.75744680851062, 126.83999999999999, 'X[4] <= 82.661\\nmse = 17.379\\nsamples = 65\\nvalue = 25.369'),\n",
       " Text(220.82553191489362, 90.6, 'X[1] <= 2.671\\nmse = 10.82\\nsamples = 29\\nvalue = 28.224'),\n",
       " Text(206.57872340425533, 54.359999999999985, 'X[2] <= 115.564\\nmse = 6.157\\nsamples = 20\\nvalue = 26.675'),\n",
       " Text(199.45531914893616, 18.119999999999976, 'mse = 5.312\\nsamples = 16\\nvalue = 27.281'),\n",
       " Text(213.70212765957447, 18.119999999999976, 'mse = 2.188\\nsamples = 4\\nvalue = 24.25'),\n",
       " Text(235.0723404255319, 54.359999999999985, 'X[0] <= 17.425\\nmse = 4.0\\nsamples = 9\\nvalue = 31.667'),\n",
       " Text(227.94893617021276, 18.119999999999976, 'mse = 3.44\\nsamples = 5\\nvalue = 30.6'),\n",
       " Text(242.19574468085105, 18.119999999999976, 'mse = 1.5\\nsamples = 4\\nvalue = 33.0'),\n",
       " Text(270.68936170212766, 90.6, 'X[2] <= 121.43\\nmse = 10.808\\nsamples = 36\\nvalue = 23.069'),\n",
       " Text(263.5659574468085, 54.359999999999985, 'X[2] <= 114.397\\nmse = 9.727\\nsamples = 31\\nvalue = 23.581'),\n",
       " Text(256.44255319148937, 18.119999999999976, 'mse = 10.768\\nsamples = 17\\nvalue = 24.235'),\n",
       " Text(270.68936170212766, 18.119999999999976, 'mse = 7.311\\nsamples = 14\\nvalue = 22.786'),\n",
       " Text(277.8127659574468, 54.359999999999985, 'mse = 5.84\\nsamples = 5\\nvalue = 19.9'),\n",
       " Text(313.4297872340425, 126.83999999999999, 'X[4] <= 101.863\\nmse = 41.502\\nsamples = 67\\nvalue = 32.797'),\n",
       " Text(306.3063829787234, 90.6, 'X[0] <= 15.673\\nmse = 29.268\\nsamples = 60\\nvalue = 34.002'),\n",
       " Text(292.0595744680851, 54.359999999999985, 'X[3] <= 79.347\\nmse = 27.513\\nsamples = 26\\nvalue = 32.508'),\n",
       " Text(284.93617021276594, 18.119999999999976, 'mse = 20.412\\nsamples = 10\\nvalue = 29.4'),\n",
       " Text(299.18297872340423, 18.119999999999976, 'mse = 22.143\\nsamples = 16\\nvalue = 34.45'),\n",
       " Text(320.5531914893617, 54.359999999999985, 'X[4] <= 68.705\\nmse = 27.599\\nsamples = 34\\nvalue = 35.144'),\n",
       " Text(313.4297872340425, 18.119999999999976, 'mse = 23.766\\nsamples = 25\\nvalue = 36.524'),\n",
       " Text(327.67659574468087, 18.119999999999976, 'mse = 18.265\\nsamples = 9\\nvalue = 31.311'),\n",
       " Text(320.5531914893617, 90.6, 'mse = 27.302\\nsamples = 7\\nvalue = 22.471')]"
      ]
     },
     "execution_count": 34,
     "metadata": {},
     "output_type": "execute_result"
    },
    {
     "data": {
      "image/png": "[encoded data removed]",
      "text/plain": [
       "<Figure size 432x288 with 1 Axes>"
      ]
     },
     "metadata": {
      "needs_background": "light"
     },
     "output_type": "display_data"
    }
   ],
   "source": [
    "from sklearn.tree import plot_tree\n",
    "plot_tree(model.estimators_[199],filled=True)\n",
    "\n",
    "#reduce depth to get a clear picture with values\n",
    "# model.estimators_[i] here i can be 0 to 199 since we have 200"
   ]
  },
  {
   "cell_type": "code",
   "execution_count": null,
   "metadata": {},
   "outputs": [],
   "source": []
  }
 ],
 "metadata": {
  "kernelspec": {
   "display_name": "Python 3",
   "language": "python",
   "name": "python3"
  },
  "language_info": {
   "codemirror_mode": {
    "name": "ipython",
    "version": 3
   },
   "file_extension": ".py",
   "mimetype": "text/x-python",
   "name": "python",
   "nbconvert_exporter": "python",
   "pygments_lexer": "ipython3",
   "version": "3.8.3"
  }
 },
 "nbformat": 4,
 "nbformat_minor": 4
}
