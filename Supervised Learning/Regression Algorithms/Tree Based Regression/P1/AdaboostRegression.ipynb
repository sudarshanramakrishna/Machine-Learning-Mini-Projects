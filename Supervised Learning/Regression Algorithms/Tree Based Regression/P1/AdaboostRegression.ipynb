{
 "cells": [
  {
   "cell_type": "code",
   "execution_count": 1,
   "metadata": {},
   "outputs": [],
   "source": [
    "import numpy as np\n",
    "import pandas as pd"
   ]
  },
  {
   "cell_type": "code",
   "execution_count": 2,
   "metadata": {},
   "outputs": [],
   "source": [
    "data = pd.read_csv(\"mpg.csv\")"
   ]
  },
  {
   "cell_type": "code",
   "execution_count": 3,
   "metadata": {},
   "outputs": [],
   "source": [
    "data = data[data.horsepower != \"?\"]"
   ]
  },
  {
   "cell_type": "code",
   "execution_count": 4,
   "metadata": {},
   "outputs": [
    {
     "data": {
      "text/plain": [
       "mpg             float64\n",
       "cylinders         int64\n",
       "displacement    float64\n",
       "horsepower       object\n",
       "weight            int64\n",
       "acceleration    float64\n",
       "model_year        int64\n",
       "origin            int64\n",
       "name             object\n",
       "dtype: object"
      ]
     },
     "execution_count": 4,
     "metadata": {},
     "output_type": "execute_result"
    }
   ],
   "source": [
    "data.dtypes"
   ]
  },
  {
   "cell_type": "code",
   "execution_count": 5,
   "metadata": {},
   "outputs": [],
   "source": [
    "data.horsepower = data.horsepower.astype(\"float\")      #object type has been changed to float"
   ]
  },
  {
   "cell_type": "code",
   "execution_count": 6,
   "metadata": {},
   "outputs": [],
   "source": [
    "from sklearn.metrics import mean_squared_error, r2_score"
   ]
  },
  {
   "cell_type": "code",
   "execution_count": 13,
   "metadata": {},
   "outputs": [],
   "source": [
    "from sklearn.model_selection import train_test_split\n",
    "df=data\n",
    "training_features = [ 'acceleration','origin','displacement','model_year','horsepower']\n",
    "target = 'mpg'\n",
    "\n",
    "X_train, X_test, Y_train, Y_test = train_test_split(df[training_features],\n",
    "                                                    df[target],\n",
    "                                                     test_size=0.10, random_state=169)"
   ]
  },
  {
   "cell_type": "code",
   "execution_count": 14,
   "metadata": {},
   "outputs": [],
   "source": [
    "from sklearn.ensemble import AdaBoostRegressor\n",
    "model = AdaBoostRegressor(n_estimators=22)\n",
    "\n",
    "#n_estimators here mean weak learners that will be clubbed into one strong model"
   ]
  },
  {
   "cell_type": "code",
   "execution_count": 15,
   "metadata": {},
   "outputs": [
    {
     "data": {
      "text/plain": [
       "AdaBoostRegressor(n_estimators=22)"
      ]
     },
     "execution_count": 15,
     "metadata": {},
     "output_type": "execute_result"
    }
   ],
   "source": [
    "model.fit(X_train,Y_train)"
   ]
  },
  {
   "cell_type": "code",
   "execution_count": 16,
   "metadata": {},
   "outputs": [
    {
     "name": "stdout",
     "output_type": "stream",
     "text": [
      "Mean squared error: 2.91\n",
      "R Square score: 0.94\n"
     ]
    }
   ],
   "source": [
    "predicted=model.predict(X_test)\n",
    "print(\"Mean squared error: %.2f\"\n",
    "              % mean_squared_error(Y_test, predicted))\n",
    "print('R Square score: %.2f' % r2_score(Y_test, predicted))"
   ]
  },
  {
   "cell_type": "code",
   "execution_count": 17,
   "metadata": {},
   "outputs": [
    {
     "data": {
      "text/plain": [
       "array([1.97102629, 0.95956644, 1.50896357, 1.04100679, 1.1287572 ,\n",
       "       1.09219067, 0.43520003, 1.18432366, 0.40089895, 1.00900689,\n",
       "       0.56087169, 0.91563363, 0.980316  , 0.97821663, 0.80787179,\n",
       "       0.8921105 , 0.80720435, 0.90429693, 0.48472451, 0.88023993,\n",
       "       0.87004486, 0.61337047])"
      ]
     },
     "execution_count": 17,
     "metadata": {},
     "output_type": "execute_result"
    }
   ],
   "source": [
    "#to see the weights of the weak learners(models)\n",
    "model.estimator_weights_"
   ]
  },
  {
   "cell_type": "code",
   "execution_count": 18,
   "metadata": {},
   "outputs": [
    {
     "data": {
      "text/plain": [
       "[Text(167.4, 190.26, 'X[2] <= 189.5\\nmse = 60.835\\nsamples = 352\\nvalue = 23.376'),\n",
       " Text(83.7, 135.9, 'X[3] <= 78.5\\nmse = 34.541\\nsamples = 203\\nvalue = 28.507'),\n",
       " Text(41.85, 81.53999999999999, 'X[4] <= 84.0\\nmse = 21.703\\nsamples = 133\\nvalue = 26.133'),\n",
       " Text(20.925, 27.180000000000007, 'mse = 13.934\\nsamples = 74\\nvalue = 28.884'),\n",
       " Text(62.775000000000006, 27.180000000000007, 'mse = 10.055\\nsamples = 59\\nvalue = 22.683'),\n",
       " Text(125.55000000000001, 81.53999999999999, 'X[2] <= 128.5\\nmse = 27.885\\nsamples = 70\\nvalue = 33.017'),\n",
       " Text(104.625, 27.180000000000007, 'mse = 20.013\\nsamples = 49\\nvalue = 35.22'),\n",
       " Text(146.475, 27.180000000000007, 'mse = 8.497\\nsamples = 21\\nvalue = 27.876'),\n",
       " Text(251.10000000000002, 135.9, 'X[4] <= 142.5\\nmse = 11.939\\nsamples = 149\\nvalue = 16.387'),\n",
       " Text(209.25, 81.53999999999999, 'X[2] <= 241.0\\nmse = 6.255\\nsamples = 84\\nvalue = 18.652'),\n",
       " Text(188.32500000000002, 27.180000000000007, 'mse = 3.675\\nsamples = 42\\nvalue = 19.76'),\n",
       " Text(230.175, 27.180000000000007, 'mse = 6.383\\nsamples = 42\\nvalue = 17.545'),\n",
       " Text(292.95, 81.53999999999999, 'X[3] <= 74.5\\nmse = 4.077\\nsamples = 65\\nvalue = 13.458'),\n",
       " Text(272.02500000000003, 27.180000000000007, 'mse = 2.656\\nsamples = 53\\nvalue = 12.849'),\n",
       " Text(313.875, 27.180000000000007, 'mse = 1.464\\nsamples = 12\\nvalue = 16.15')]"
      ]
     },
     "execution_count": 18,
     "metadata": {},
     "output_type": "execute_result"
    },
    {
     "data": {
      "image/png": "[encoded data removed]",
      "text/plain": [
       "<Figure size 432x288 with 1 Axes>"
      ]
     },
     "metadata": {
      "needs_background": "light"
     },
     "output_type": "display_data"
    }
   ],
   "source": [
    "from sklearn.tree import plot_tree\n",
    "plot_tree(model.estimators_[0],filled=True)\n",
    "\n",
    "#reduce depth to get a clear picture with values\n",
    "# model.estimators_[i] here i can be 0 to 21 since number of estimators are 22"
   ]
  },
  {
   "cell_type": "code",
   "execution_count": null,
   "metadata": {},
   "outputs": [],
   "source": []
  }
 ],
 "metadata": {
  "kernelspec": {
   "display_name": "Python 3",
   "language": "python",
   "name": "python3"
  },
  "language_info": {
   "codemirror_mode": {
    "name": "ipython",
    "version": 3
   },
   "file_extension": ".py",
   "mimetype": "text/x-python",
   "name": "python",
   "nbconvert_exporter": "python",
   "pygments_lexer": "ipython3",
   "version": "3.8.3"
  }
 },
 "nbformat": 4,
 "nbformat_minor": 4
}
