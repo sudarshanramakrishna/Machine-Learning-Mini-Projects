{
 "cells": [
  {
   "cell_type": "code",
   "execution_count": 1,
   "metadata": {},
   "outputs": [],
   "source": [
    "import numpy as np\n",
    "import pandas as pd"
   ]
  },
  {
   "cell_type": "code",
   "execution_count": 2,
   "metadata": {},
   "outputs": [],
   "source": [
    "data = pd.read_csv(\"mpg.csv\")"
   ]
  },
  {
   "cell_type": "code",
   "execution_count": 3,
   "metadata": {},
   "outputs": [],
   "source": [
    "data = data[data.horsepower != \"?\"]"
   ]
  },
  {
   "cell_type": "code",
   "execution_count": 4,
   "metadata": {},
   "outputs": [
    {
     "data": {
      "text/plain": [
       "mpg             float64\n",
       "cylinders         int64\n",
       "displacement    float64\n",
       "horsepower       object\n",
       "weight            int64\n",
       "acceleration    float64\n",
       "model_year        int64\n",
       "origin            int64\n",
       "name             object\n",
       "dtype: object"
      ]
     },
     "execution_count": 4,
     "metadata": {},
     "output_type": "execute_result"
    }
   ],
   "source": [
    "data.dtypes"
   ]
  },
  {
   "cell_type": "code",
   "execution_count": 5,
   "metadata": {},
   "outputs": [],
   "source": [
    "data.horsepower = data.horsepower.astype(\"float\")      #object type has been changed to float"
   ]
  },
  {
   "cell_type": "code",
   "execution_count": 6,
   "metadata": {},
   "outputs": [],
   "source": [
    "from sklearn.metrics import mean_squared_error, r2_score"
   ]
  },
  {
   "cell_type": "code",
   "execution_count": 7,
   "metadata": {},
   "outputs": [],
   "source": [
    "from sklearn.model_selection import train_test_split\n",
    "df=data\n",
    "training_features = [ 'acceleration','origin','displacement','model_year','horsepower']\n",
    "target = 'mpg'\n",
    "\n",
    "X_train, X_test, Y_train, Y_test = train_test_split(df[training_features],\n",
    "                                                    df[target],\n",
    "                                                     test_size=0.10, random_state=169)"
   ]
  },
  {
   "cell_type": "code",
   "execution_count": 8,
   "metadata": {},
   "outputs": [],
   "source": [
    "from sklearn.ensemble import RandomForestRegressor\n",
    "model = RandomForestRegressor(n_estimators=200, criterion='mse',max_depth=5,min_samples_split=4,\n",
    "min_samples_leaf=3)\n",
    "\n",
    "#n_estimators mean n forests"
   ]
  },
  {
   "cell_type": "code",
   "execution_count": 9,
   "metadata": {},
   "outputs": [
    {
     "data": {
      "text/plain": [
       "RandomForestRegressor(max_depth=5, min_samples_leaf=3, min_samples_split=4,\n",
       "                      n_estimators=200)"
      ]
     },
     "execution_count": 9,
     "metadata": {},
     "output_type": "execute_result"
    }
   ],
   "source": [
    "model.fit(X_train,Y_train)"
   ]
  },
  {
   "cell_type": "code",
   "execution_count": 10,
   "metadata": {},
   "outputs": [
    {
     "name": "stdout",
     "output_type": "stream",
     "text": [
      "Mean squared error: 1.88\n",
      "R Square score: 0.96\n"
     ]
    }
   ],
   "source": [
    "predicted=model.predict(X_test)\n",
    "print(\"Mean squared error: %.2f\"\n",
    "              % mean_squared_error(Y_test, predicted))\n",
    "print('R Square score: %.2f' % r2_score(Y_test, predicted))"
   ]
  },
  {
   "cell_type": "code",
   "execution_count": 11,
   "metadata": {},
   "outputs": [
    {
     "data": {
      "text/plain": [
       "[Text(162.75, 199.32, 'X[2] <= 153.0\\nmse = 69.094\\nsamples = 225\\nvalue = 24.57'),\n",
       " Text(68.82000000000001, 163.07999999999998, 'X[3] <= 76.5\\nmse = 37.381\\nsamples = 119\\nvalue = 30.189'),\n",
       " Text(37.2, 126.83999999999999, 'X[4] <= 70.5\\nmse = 13.947\\nsamples = 49\\nvalue = 25.45'),\n",
       " Text(22.32, 90.6, 'X[1] <= 2.5\\nmse = 7.773\\nsamples = 13\\nvalue = 29.31'),\n",
       " Text(14.88, 54.359999999999985, 'X[2] <= 90.5\\nmse = 3.473\\nsamples = 9\\nvalue = 27.9'),\n",
       " Text(7.44, 18.119999999999976, 'mse = 0.444\\nsamples = 5\\nvalue = 29.333'),\n",
       " Text(22.32, 18.119999999999976, 'mse = 0.312\\nsamples = 4\\nvalue = 25.75'),\n",
       " Text(29.76, 54.359999999999985, 'mse = 1.139\\nsamples = 4\\nvalue = 32.833'),\n",
       " Text(52.080000000000005, 90.6, 'X[4] <= 96.5\\nmse = 8.956\\nsamples = 36\\nvalue = 24.076'),\n",
       " Text(44.64, 54.359999999999985, 'X[0] <= 18.1\\nmse = 5.641\\nsamples = 31\\nvalue = 24.883'),\n",
       " Text(37.2, 18.119999999999976, 'mse = 2.927\\nsamples = 27\\nvalue = 25.562'),\n",
       " Text(52.080000000000005, 18.119999999999976, 'mse = 3.429\\nsamples = 4\\nvalue = 21.0'),\n",
       " Text(59.52, 54.359999999999985, 'mse = 9.41\\nsamples = 5\\nvalue = 20.917'),\n",
       " Text(100.44000000000001, 126.83999999999999, 'X[2] <= 110.0\\nmse = 27.882\\nsamples = 70\\nvalue = 33.376'),\n",
       " Text(81.84, 90.6, 'X[0] <= 20.45\\nmse = 18.606\\nsamples = 41\\nvalue = 35.905'),\n",
       " Text(74.4, 54.359999999999985, 'X[3] <= 77.5\\nmse = 10.731\\nsamples = 38\\nvalue = 34.711'),\n",
       " Text(66.96000000000001, 18.119999999999976, 'mse = 4.321\\nsamples = 5\\nvalue = 31.111'),\n",
       " Text(81.84, 18.119999999999976, 'mse = 9.345\\nsamples = 33\\nvalue = 35.289'),\n",
       " Text(89.28, 54.359999999999985, 'mse = 0.224\\nsamples = 3\\nvalue = 43.67'),\n",
       " Text(119.04, 90.6, 'X[3] <= 78.5\\nmse = 14.191\\nsamples = 29\\nvalue = 29.064'),\n",
       " Text(104.16000000000001, 54.359999999999985, 'X[2] <= 128.0\\nmse = 3.572\\nsamples = 8\\nvalue = 24.96'),\n",
       " Text(96.72, 18.119999999999976, 'mse = 1.882\\nsamples = 3\\nvalue = 25.95'),\n",
       " Text(111.60000000000001, 18.119999999999976, 'mse = 3.61\\nsamples = 5\\nvalue = 24.3'),\n",
       " Text(133.92000000000002, 54.359999999999985, 'X[0] <= 15.3\\nmse = 10.904\\nsamples = 21\\nvalue = 30.271'),\n",
       " Text(126.48, 18.119999999999976, 'mse = 11.41\\nsamples = 9\\nvalue = 32.356'),\n",
       " Text(141.36, 18.119999999999976, 'mse = 3.151\\nsamples = 12\\nvalue = 28.417'),\n",
       " Text(256.68, 163.07999999999998, 'X[4] <= 142.5\\nmse = 15.844\\nsamples = 106\\nvalue = 17.261'),\n",
       " Text(208.32000000000002, 126.83999999999999, 'X[2] <= 212.5\\nmse = 10.592\\nsamples = 64\\nvalue = 19.439'),\n",
       " Text(178.56, 90.6, 'X[3] <= 78.5\\nmse = 14.886\\nsamples = 20\\nvalue = 22.163'),\n",
       " Text(163.68, 54.359999999999985, 'X[3] <= 74.0\\nmse = 4.741\\nsamples = 11\\nvalue = 19.931'),\n",
       " Text(156.24, 18.119999999999976, 'mse = 0.84\\nsamples = 5\\nvalue = 21.222'),\n",
       " Text(171.12, 18.119999999999976, 'mse = 4.859\\nsamples = 6\\nvalue = 18.271'),\n",
       " Text(193.44, 54.359999999999985, 'X[2] <= 177.0\\nmse = 11.861\\nsamples = 9\\nvalue = 25.409'),\n",
       " Text(186.0, 18.119999999999976, 'mse = 6.862\\nsamples = 6\\nvalue = 27.071'),\n",
       " Text(200.88000000000002, 18.119999999999976, 'mse = 7.31\\nsamples = 3\\nvalue = 22.5'),\n",
       " Text(238.08, 90.6, 'X[2] <= 241.0\\nmse = 4.558\\nsamples = 44\\nvalue = 18.324'),\n",
       " Text(223.20000000000002, 54.359999999999985, 'X[3] <= 75.5\\nmse = 2.258\\nsamples = 17\\nvalue = 19.561'),\n",
       " Text(215.76000000000002, 18.119999999999976, 'mse = 1.102\\nsamples = 8\\nvalue = 18.571'),\n",
       " Text(230.64000000000001, 18.119999999999976, 'mse = 1.457\\nsamples = 9\\nvalue = 20.55'),\n",
       " Text(252.96, 54.359999999999985, 'X[3] <= 77.5\\nmse = 4.296\\nsamples = 27\\nvalue = 17.413'),\n",
       " Text(245.52, 18.119999999999976, 'mse = 2.766\\nsamples = 18\\nvalue = 16.56'),\n",
       " Text(260.40000000000003, 18.119999999999976, 'mse = 3.146\\nsamples = 9\\nvalue = 19.054'),\n",
       " Text(305.04, 126.83999999999999, 'X[4] <= 191.5\\nmse = 5.236\\nsamples = 42\\nvalue = 13.885'),\n",
       " Text(290.16, 90.6, 'X[3] <= 77.5\\nmse = 3.277\\nsamples = 35\\nvalue = 14.606'),\n",
       " Text(282.72, 54.359999999999985, 'X[2] <= 329.0\\nmse = 2.516\\nsamples = 32\\nvalue = 14.367'),\n",
       " Text(275.28000000000003, 18.119999999999976, 'mse = 1.633\\nsamples = 9\\nvalue = 15.462'),\n",
       " Text(290.16, 18.119999999999976, 'mse = 2.189\\nsamples = 23\\nvalue = 13.922'),\n",
       " Text(297.6, 54.359999999999985, 'mse = 0.927\\nsamples = 3\\nvalue = 18.2'),\n",
       " Text(319.92, 90.6, 'X[2] <= 434.5\\nmse = 2.667\\nsamples = 7\\nvalue = 11.0'),\n",
       " Text(312.48, 54.359999999999985, 'mse = 0.84\\nsamples = 4\\nvalue = 10.222'),\n",
       " Text(327.36, 54.359999999999985, 'mse = 0.889\\nsamples = 3\\nvalue = 13.333')]"
      ]
     },
     "execution_count": 11,
     "metadata": {},
     "output_type": "execute_result"
    },
    {
     "data": {
      "image/png": "[encoded data removed]",
      "text/plain": [
       "<Figure size 432x288 with 1 Axes>"
      ]
     },
     "metadata": {
      "needs_background": "light"
     },
     "output_type": "display_data"
    }
   ],
   "source": [
    "from sklearn.tree import plot_tree\n",
    "plot_tree(model.estimators_[0],filled=True)\n",
    "\n",
    "#reduce depth to get a clear picture with values\n",
    "# model.estimators_[i] here i can be 0 to 199 since number of trees are 200"
   ]
  },
  {
   "cell_type": "code",
   "execution_count": null,
   "metadata": {},
   "outputs": [],
   "source": []
  }
 ],
 "metadata": {
  "kernelspec": {
   "display_name": "Python 3",
   "language": "python",
   "name": "python3"
  },
  "language_info": {
   "codemirror_mode": {
    "name": "ipython",
    "version": 3
   },
   "file_extension": ".py",
   "mimetype": "text/x-python",
   "name": "python",
   "nbconvert_exporter": "python",
   "pygments_lexer": "ipython3",
   "version": "3.8.3"
  }
 },
 "nbformat": 4,
 "nbformat_minor": 4
}
