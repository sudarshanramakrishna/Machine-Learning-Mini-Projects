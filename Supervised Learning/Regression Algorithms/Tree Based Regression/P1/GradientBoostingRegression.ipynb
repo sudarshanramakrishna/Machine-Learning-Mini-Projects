{
 "cells": [
  {
   "cell_type": "code",
   "execution_count": 27,
   "metadata": {},
   "outputs": [],
   "source": [
    "import numpy as np\n",
    "import pandas as pd"
   ]
  },
  {
   "cell_type": "code",
   "execution_count": 28,
   "metadata": {},
   "outputs": [],
   "source": [
    "data = pd.read_csv(\"mpg.csv\")"
   ]
  },
  {
   "cell_type": "code",
   "execution_count": 29,
   "metadata": {},
   "outputs": [],
   "source": [
    "data = data[data.horsepower != \"?\"]"
   ]
  },
  {
   "cell_type": "code",
   "execution_count": 30,
   "metadata": {},
   "outputs": [
    {
     "data": {
      "text/plain": [
       "mpg             float64\n",
       "cylinders         int64\n",
       "displacement    float64\n",
       "horsepower       object\n",
       "weight            int64\n",
       "acceleration    float64\n",
       "model_year        int64\n",
       "origin            int64\n",
       "name             object\n",
       "dtype: object"
      ]
     },
     "execution_count": 30,
     "metadata": {},
     "output_type": "execute_result"
    }
   ],
   "source": [
    "data.dtypes"
   ]
  },
  {
   "cell_type": "code",
   "execution_count": 31,
   "metadata": {},
   "outputs": [],
   "source": [
    "data.horsepower = data.horsepower.astype(\"float\")      #object type has been changed to float"
   ]
  },
  {
   "cell_type": "code",
   "execution_count": 32,
   "metadata": {},
   "outputs": [],
   "source": [
    "from sklearn.metrics import mean_squared_error, r2_score"
   ]
  },
  {
   "cell_type": "code",
   "execution_count": 33,
   "metadata": {},
   "outputs": [],
   "source": [
    "from sklearn.model_selection import train_test_split\n",
    "df=data\n",
    "training_features = [ 'acceleration','origin','displacement','model_year','horsepower']\n",
    "target = 'mpg'\n",
    "\n",
    "X_train, X_test, Y_train, Y_test = train_test_split(df[training_features],\n",
    "                                                    df[target],\n",
    "                                                     test_size=0.10, random_state=20)"
   ]
  },
  {
   "cell_type": "code",
   "execution_count": 34,
   "metadata": {},
   "outputs": [],
   "source": [
    "from sklearn.ensemble import GradientBoostingRegressor\n",
    "model = GradientBoostingRegressor(n_estimators=100)\n",
    "\n",
    "#n_estimators here mean weak learners that will be clubbed into one strong model\n",
    "# but instead of using the normal approach the resultant storng model will be arrived at\n",
    "# by gradient updatation at each iteration."
   ]
  },
  {
   "cell_type": "code",
   "execution_count": 35,
   "metadata": {},
   "outputs": [
    {
     "data": {
      "text/plain": [
       "GradientBoostingRegressor()"
      ]
     },
     "execution_count": 35,
     "metadata": {},
     "output_type": "execute_result"
    }
   ],
   "source": [
    "model.fit(X_train,Y_train)"
   ]
  },
  {
   "cell_type": "code",
   "execution_count": 36,
   "metadata": {},
   "outputs": [
    {
     "name": "stdout",
     "output_type": "stream",
     "text": [
      "Mean squared error: 2.47\n",
      "R Square score: 0.97\n"
     ]
    }
   ],
   "source": [
    "predicted=model.predict(X_test)\n",
    "print(\"Mean squared error: %.2f\"\n",
    "              % mean_squared_error(Y_test, predicted))\n",
    "print('R Square score: %.2f' % r2_score(Y_test, predicted))\n",
    "\n",
    "#we should get a better rsquare value than adaboost"
   ]
  },
  {
   "cell_type": "code",
   "execution_count": 26,
   "metadata": {},
   "outputs": [
    {
     "data": {
      "text/plain": [
       "[Text(167.4, 190.26, 'X[2] <= 190.5\\nmse = 73.091\\nsamples = 352\\nvalue = 25.09'),\n",
       " Text(83.7, 135.9, 'X[3] <= 77.5\\nmse = 44.217\\nsamples = 222\\nvalue = 29.742'),\n",
       " Text(41.85, 81.53999999999999, 'X[4] <= 96.5\\nmse = 18.994\\nsamples = 91\\nvalue = 25.011'),\n",
       " Text(20.925, 27.180000000000007, 'mse = 14.772\\nsamples = 76\\nvalue = 26.105'),\n",
       " Text(62.775000000000006, 27.180000000000007, 'mse = 3.582\\nsamples = 15\\nvalue = 19.467'),\n",
       " Text(125.55000000000001, 81.53999999999999, 'X[2] <= 97.5\\nmse = 35.385\\nsamples = 131\\nvalue = 33.029'),\n",
       " Text(104.625, 27.180000000000007, 'mse = 37.117\\nsamples = 41\\nvalue = 38.066'),\n",
       " Text(146.475, 27.180000000000007, 'mse = 17.774\\nsamples = 90\\nvalue = 30.734'),\n",
       " Text(251.10000000000002, 135.9, 'X[4] <= 127.0\\nmse = 22.32\\nsamples = 130\\nvalue = 17.145'),\n",
       " Text(209.25, 81.53999999999999, 'X[3] <= 81.5\\nmse = 16.746\\nsamples = 65\\nvalue = 20.392'),\n",
       " Text(188.32500000000002, 27.180000000000007, 'mse = 7.327\\nsamples = 57\\nvalue = 19.605'),\n",
       " Text(230.175, 27.180000000000007, 'mse = 48.0\\nsamples = 8\\nvalue = 26.0'),\n",
       " Text(292.95, 81.53999999999999, 'X[4] <= 186.5\\nmse = 6.809\\nsamples = 65\\nvalue = 13.898'),\n",
       " Text(272.02500000000003, 27.180000000000007, 'mse = 4.858\\nsamples = 54\\nvalue = 14.637'),\n",
       " Text(313.875, 27.180000000000007, 'mse = 0.562\\nsamples = 11\\nvalue = 10.273')]"
      ]
     },
     "execution_count": 26,
     "metadata": {},
     "output_type": "execute_result"
    },
    {
     "data": {
      "image/png": "[encoded data removed]",
      "text/plain": [
       "<Figure size 432x288 with 1 Axes>"
      ]
     },
     "metadata": {
      "needs_background": "light"
     },
     "output_type": "display_data"
    }
   ],
   "source": [
    "from sklearn.tree import plot_tree\n",
    "plot_tree(model.estimators_[2],filled=True)\n",
    "\n",
    "#reduce depth to get a clear picture with values\n",
    "# model.estimators_[i] here i can be 0 to 21 since we have 22 estimators"
   ]
  },
  {
   "cell_type": "code",
   "execution_count": null,
   "metadata": {},
   "outputs": [],
   "source": []
  }
 ],
 "metadata": {
  "kernelspec": {
   "display_name": "Python 3",
   "language": "python",
   "name": "python3"
  },
  "language_info": {
   "codemirror_mode": {
    "name": "ipython",
    "version": 3
   },
   "file_extension": ".py",
   "mimetype": "text/x-python",
   "name": "python",
   "nbconvert_exporter": "python",
   "pygments_lexer": "ipython3",
   "version": "3.8.3"
  }
 },
 "nbformat": 4,
 "nbformat_minor": 4
}
