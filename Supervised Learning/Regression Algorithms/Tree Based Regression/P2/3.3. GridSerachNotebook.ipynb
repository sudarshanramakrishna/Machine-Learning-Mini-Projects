{
 "cells": [
  {
   "cell_type": "markdown",
   "id": "cf1f5369",
   "metadata": {},
   "source": [
    "# Grid Search Notebook\n",
    "-------\n",
    "In this notebook, we would apply [Grid Search](https://scikit-learn.org/stable/modules/generated/sklearn.model_selection.GridSearchCV.html) algorithm on Decision Tree Regressor using IceCreamData.csv dataset, and use k-fold evaluation too."
   ]
  },
  {
   "cell_type": "code",
   "execution_count": 10,
   "id": "8ee40709",
   "metadata": {},
   "outputs": [],
   "source": [
    "import numpy as np\n",
    "import pandas as pd\n",
    "import matplotlib.pyplot as plt\n",
    "from sklearn.model_selection import GridSearchCV\n",
    "from sklearn.tree import DecisionTreeRegressor"
   ]
  },
  {
   "cell_type": "markdown",
   "id": "760f1a15",
   "metadata": {},
   "source": [
    "## Part 1: Reading & Seperating Data"
   ]
  },
  {
   "cell_type": "code",
   "execution_count": 11,
   "id": "1e4a0872",
   "metadata": {},
   "outputs": [
    {
     "data": {
      "text/html": [
       "<div>\n",
       "<style scoped>\n",
       "    .dataframe tbody tr th:only-of-type {\n",
       "        vertical-align: middle;\n",
       "    }\n",
       "\n",
       "    .dataframe tbody tr th {\n",
       "        vertical-align: top;\n",
       "    }\n",
       "\n",
       "    .dataframe thead th {\n",
       "        text-align: right;\n",
       "    }\n",
       "</style>\n",
       "<table border=\"1\" class=\"dataframe\">\n",
       "  <thead>\n",
       "    <tr style=\"text-align: right;\">\n",
       "      <th></th>\n",
       "      <th>Temperature</th>\n",
       "      <th>Revenue</th>\n",
       "    </tr>\n",
       "  </thead>\n",
       "  <tbody>\n",
       "    <tr>\n",
       "      <th>0</th>\n",
       "      <td>24.566884</td>\n",
       "      <td>534.799028</td>\n",
       "    </tr>\n",
       "    <tr>\n",
       "      <th>1</th>\n",
       "      <td>26.005191</td>\n",
       "      <td>625.190122</td>\n",
       "    </tr>\n",
       "    <tr>\n",
       "      <th>2</th>\n",
       "      <td>27.790554</td>\n",
       "      <td>660.632289</td>\n",
       "    </tr>\n",
       "    <tr>\n",
       "      <th>3</th>\n",
       "      <td>20.595335</td>\n",
       "      <td>487.706960</td>\n",
       "    </tr>\n",
       "    <tr>\n",
       "      <th>4</th>\n",
       "      <td>11.503498</td>\n",
       "      <td>316.240194</td>\n",
       "    </tr>\n",
       "    <tr>\n",
       "      <th>...</th>\n",
       "      <td>...</td>\n",
       "      <td>...</td>\n",
       "    </tr>\n",
       "    <tr>\n",
       "      <th>495</th>\n",
       "      <td>22.274899</td>\n",
       "      <td>524.746364</td>\n",
       "    </tr>\n",
       "    <tr>\n",
       "      <th>496</th>\n",
       "      <td>32.893092</td>\n",
       "      <td>755.818399</td>\n",
       "    </tr>\n",
       "    <tr>\n",
       "      <th>497</th>\n",
       "      <td>12.588157</td>\n",
       "      <td>306.090719</td>\n",
       "    </tr>\n",
       "    <tr>\n",
       "      <th>498</th>\n",
       "      <td>22.362402</td>\n",
       "      <td>566.217304</td>\n",
       "    </tr>\n",
       "    <tr>\n",
       "      <th>499</th>\n",
       "      <td>28.957736</td>\n",
       "      <td>655.660388</td>\n",
       "    </tr>\n",
       "  </tbody>\n",
       "</table>\n",
       "<p>500 rows × 2 columns</p>\n",
       "</div>"
      ],
      "text/plain": [
       "     Temperature     Revenue\n",
       "0      24.566884  534.799028\n",
       "1      26.005191  625.190122\n",
       "2      27.790554  660.632289\n",
       "3      20.595335  487.706960\n",
       "4      11.503498  316.240194\n",
       "..           ...         ...\n",
       "495    22.274899  524.746364\n",
       "496    32.893092  755.818399\n",
       "497    12.588157  306.090719\n",
       "498    22.362402  566.217304\n",
       "499    28.957736  655.660388\n",
       "\n",
       "[500 rows x 2 columns]"
      ]
     },
     "execution_count": 11,
     "metadata": {},
     "output_type": "execute_result"
    }
   ],
   "source": [
    "df = pd.read_csv('IceCreamData.csv')\n",
    "df"
   ]
  },
  {
   "cell_type": "code",
   "execution_count": 12,
   "id": "809b02ae",
   "metadata": {},
   "outputs": [],
   "source": [
    "X = df['Temperature']\n",
    "X = np.expand_dims(X, 1)\n",
    "Y = df['Revenue']"
   ]
  },
  {
   "cell_type": "markdown",
   "id": "709cbf8a",
   "metadata": {},
   "source": [
    "## Part 2: Model Building\n",
    "------\n",
    "### 2.1: Make a list of all possible parameters to the model you are using (here the [DecisionTreeRegressor](https://scikit-learn.org/stable/modules/generated/sklearn.tree.DecisionTreeRegressor.html?highlight=decision%20tree#sklearn.tree.DecisionTreeRegressor))"
   ]
  },
  {
   "cell_type": "code",
   "execution_count": 13,
   "id": "cd4882e0",
   "metadata": {},
   "outputs": [],
   "source": [
    "# In DecisionTreeRegressor documentation, you would find the list of all paramters and their options. We took some samples only\n",
    "criterion_options = ['squared_error', 'absolute_error']\n",
    "max_depth_options = [2, 3, 4, None]\n",
    "splitter_options = ['best', 'random']"
   ]
  },
  {
   "cell_type": "markdown",
   "id": "e762410f",
   "metadata": {},
   "source": [
    "### 2.2: Build your grid using DecisionTreeRegressor"
   ]
  },
  {
   "cell_type": "code",
   "execution_count": 14,
   "id": "f8caf2c6",
   "metadata": {},
   "outputs": [],
   "source": [
    "grid = GridSearchCV(estimator=DecisionTreeRegressor(), cv=5, param_grid=dict(criterion=['squared_error', 'absolute_error'], max_depth=max_depth_options, splitter=splitter_options))"
   ]
  },
  {
   "cell_type": "markdown",
   "id": "2e78327c",
   "metadata": {},
   "source": [
    "### 2.3: Fit your \"grid\" model"
   ]
  },
  {
   "cell_type": "code",
   "execution_count": 15,
   "id": "8278c27a",
   "metadata": {},
   "outputs": [],
   "source": [
    "grid = grid.fit(X, Y)"
   ]
  },
  {
   "cell_type": "markdown",
   "id": "41ac7516",
   "metadata": {},
   "source": [
    "### 2.4: Print the best score & best options for your model"
   ]
  },
  {
   "cell_type": "code",
   "execution_count": 16,
   "id": "e490bc90",
   "metadata": {},
   "outputs": [
    {
     "name": "stdout",
     "output_type": "stream",
     "text": [
      "96.4%\n",
      "{'criterion': 'squared_error', 'max_depth': 4, 'splitter': 'best'}\n"
     ]
    }
   ],
   "source": [
    "print(\"%.1f%%\" % (grid.best_score_ * 100))\n",
    "print(grid.best_params_)"
   ]
  },
  {
   "cell_type": "markdown",
   "id": "774be5f2",
   "metadata": {},
   "source": [
    "### 2.5: Build your model using the best hyperparamters"
   ]
  },
  {
   "cell_type": "code",
   "execution_count": 17,
   "id": "de124e4c",
   "metadata": {},
   "outputs": [
    {
     "data": {
      "text/plain": [
       "DecisionTreeRegressor(max_depth=4)"
      ]
     },
     "execution_count": 17,
     "metadata": {},
     "output_type": "execute_result"
    }
   ],
   "source": [
    "model = DecisionTreeRegressor(criterion='squared_error', max_depth=4, splitter='best')\n",
    "model.fit(X, Y)"
   ]
  },
  {
   "cell_type": "markdown",
   "id": "fadbc43b",
   "metadata": {},
   "source": [
    "#### Now you can use it as you wish. In a real-life project, you would save the model to be used for prediction, and that's it."
   ]
  }
 ],
 "metadata": {
  "kernelspec": {
   "display_name": "dev",
   "language": "python",
   "name": "dev"
  },
  "language_info": {
   "codemirror_mode": {
    "name": "ipython",
    "version": 3
   },
   "file_extension": ".py",
   "mimetype": "text/x-python",
   "name": "python",
   "nbconvert_exporter": "python",
   "pygments_lexer": "ipython3",
   "version": "3.9.7"
  }
 },
 "nbformat": 4,
 "nbformat_minor": 5
}
